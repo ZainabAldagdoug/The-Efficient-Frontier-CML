{
 "cells": [
  {
   "cell_type": "code",
   "execution_count": 1,
   "id": "46af400e-6080-4bc2-8b0c-97b32a4ea024",
   "metadata": {},
   "outputs": [],
   "source": [
    "import pandas as pd\n",
    "import numpy as np"
   ]
  },
  {
   "cell_type": "code",
   "execution_count": null,
   "id": "33e37f5d-f4cc-4e36-b74b-e9f20f3b625d",
   "metadata": {},
   "outputs": [],
   "source": [
    "df = pd.DataFrame(['Revenue', 'EBITDA', 'Taxes', 'Capital Expenditures', 'Increase in Working Capital', 'Cash Flow', 'Discount Factor', 'Present Value of Future Cash Flow'])"
   ]
  }
 ],
 "metadata": {
  "kernelspec": {
   "display_name": "Python 3",
   "language": "python",
   "name": "python3"
  },
  "language_info": {
   "codemirror_mode": {
    "name": "ipython",
    "version": 3
   },
   "file_extension": ".py",
   "mimetype": "text/x-python",
   "name": "python",
   "nbconvert_exporter": "python",
   "pygments_lexer": "ipython3",
   "version": "3.8.8"
  }
 },
 "nbformat": 4,
 "nbformat_minor": 5
}
